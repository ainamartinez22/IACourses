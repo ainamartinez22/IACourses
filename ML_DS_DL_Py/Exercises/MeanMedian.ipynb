{
 "cells": [
  {
   "cell_type": "markdown",
   "metadata": {},
   "source": [
    "# Exercise: Mean & Median Customer Spend"
   ]
  },
  {
   "cell_type": "markdown",
   "metadata": {},
   "source": [
    "Here's some code that will generate some random e-commerce data; just an array of total amount spent per transaction. Select the code block, and hit \"play\" to execute it:"
   ]
  },
  {
   "cell_type": "code",
   "execution_count": 6,
   "metadata": {},
   "outputs": [
    {
     "data": {
      "image/png": "[encoded data removed]",
      "text/plain": [
       "<Figure size 432x288 with 1 Axes>"
      ]
     },
     "metadata": {
      "needs_background": "light"
     },
     "output_type": "display_data"
    }
   ],
   "source": [
    "%matplotlib inline\n",
    "import numpy as np\n",
    "import matplotlib.pyplot as plt\n",
    "\n",
    "incomes = np.random.normal(100.0, 20.0, 10000)\n",
    "\n",
    "plt.hist(incomes, 50)\n",
    "plt.show()"
   ]
  },
  {
   "cell_type": "markdown",
   "metadata": {},
   "source": [
    "Now, find the mean and median of this data. In the code block below, write your code, and see if your result makes sense:"
   ]
  },
  {
   "cell_type": "code",
   "execution_count": 7,
   "metadata": {},
   "outputs": [
    {
     "name": "stdout",
     "output_type": "stream",
     "text": [
      "MEAN 99.95004358658284\n",
      "MEDIAN 99.96908502535503\n",
      "Its a normal distribution, so median~~mean because there arent outliers to modify mean value\n"
     ]
    }
   ],
   "source": [
    "print('MEAN',np.mean(incomes))\n",
    "print('MEDIAN',np.median(incomes))\n",
    "print('Its a normal distribution, so median~~mean because there arent outliers to modify mean value')"
   ]
  },
  {
   "cell_type": "markdown",
   "metadata": {},
   "source": [
    "This is pretty much the world's easiest assignment, but we're just trying to get your hands on iPython and writing code with numpy to get you comfortable with it.\n",
    "\n",
    "Try playing with the code above to generate different distributions of data, or add outliers to it to see their effect."
   ]
  },
  {
   "cell_type": "code",
   "execution_count": 8,
   "metadata": {},
   "outputs": [
    {
     "name": "stdout",
     "output_type": "stream",
     "text": [
      "[ 8.35904239e+01  1.20490845e+02  1.19283786e+02 ...  1.19345954e+02\n",
      "  1.45903933e+02 -1.00000000e+05]\n",
      "MEAN 89.94104948163466\n",
      "MEDIAN 99.96719039959903\n",
      "Just the mean is modified when there is an outlier really far\n"
     ]
    }
   ],
   "source": [
    "incomes_modified = np.append(incomes,-100000)\n",
    "print(incomes_modified)\n",
    "print('MEAN',np.mean(incomes_modified))\n",
    "print('MEDIAN',np.median(incomes_modified))\n",
    "print('Just the mean is modified when there is an outlier really far')"
   ]
  },
  {
   "cell_type": "code",
   "execution_count": 14,
   "metadata": {},
   "outputs": [
    {
     "name": "stdout",
     "output_type": "stream",
     "text": [
      "[  83.59042394  120.49084499  119.2837858  ... -100.         -100.\n",
      " -100.        ]\n",
      "MEAN 98.95526725033118\n",
      "MEDIAN 99.84244107737796\n",
      "Also, if there are near outliers repeated a minimum number of times\n"
     ]
    }
   ],
   "source": [
    "incomes_modified2 = np.append(incomes,[-100]*50)\n",
    "print(incomes_modified2)\n",
    "print('MEAN',np.mean(incomes_modified2))\n",
    "print('MEDIAN',np.median(incomes_modified2))\n",
    "print('Also, if there are near outliers repeated a minimum number of times')"
   ]
  }
 ],
 "metadata": {
  "kernelspec": {
   "display_name": "Python 3",
   "language": "python",
   "name": "python3"
  },
  "language_info": {
   "codemirror_mode": {
    "name": "ipython",
    "version": 3
   },
   "file_extension": ".py",
   "mimetype": "text/x-python",
   "name": "python",
   "nbconvert_exporter": "python",
   "pygments_lexer": "ipython3",
   "version": "3.8.5"
  }
 },
 "nbformat": 4,
 "nbformat_minor": 1
}
