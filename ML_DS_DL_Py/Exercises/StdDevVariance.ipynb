{
 "cells": [
  {
   "cell_type": "markdown",
   "metadata": {},
   "source": [
    "# Standard Deviation and Variance"
   ]
  },
  {
   "cell_type": "code",
   "execution_count": 2,
   "metadata": {},
   "outputs": [
    {
     "data": {
      "image/png": "[encoded data removed]",
      "text/plain": [
       "<Figure size 432x288 with 1 Axes>"
      ]
     },
     "metadata": {
      "needs_background": "light"
     },
     "output_type": "display_data"
    }
   ],
   "source": [
    "%matplotlib inline\n",
    "import numpy as np\n",
    "import matplotlib.pyplot as plt\n",
    "\n",
    "incomes = np.random.normal(100.0, 50.0, 10000)\n",
    "\n",
    "plt.hist(incomes, 50)\n",
    "plt.show()"
   ]
  },
  {
   "cell_type": "code",
   "execution_count": 3,
   "metadata": {},
   "outputs": [
    {
     "data": {
      "text/plain": [
       "50.17007397828857"
      ]
     },
     "execution_count": 3,
     "metadata": {},
     "output_type": "execute_result"
    }
   ],
   "source": [
    "incomes.std()"
   ]
  },
  {
   "cell_type": "code",
   "execution_count": 4,
   "metadata": {},
   "outputs": [
    {
     "data": {
      "text/plain": [
       "2517.036322986948"
      ]
     },
     "execution_count": 4,
     "metadata": {},
     "output_type": "execute_result"
    }
   ],
   "source": [
    "incomes.var()"
   ]
  },
  {
   "cell_type": "markdown",
   "metadata": {},
   "source": [
    "## Activity"
   ]
  },
  {
   "cell_type": "markdown",
   "metadata": {},
   "source": [
    "Experiment with different parameters on the normal function, and see what effect it has on the shape of the distribution. How does that new shape relate to the standard deviation and variance?"
   ]
  },
  {
   "cell_type": "code",
   "execution_count": 29,
   "metadata": {},
   "outputs": [
    {
     "name": "stdout",
     "output_type": "stream",
     "text": [
      "STAND DEV:  49.7956956016111 VARIANCE 2479.611300448311\n",
      "STAND DEV:  49.92883478180959 VARIANCE 2492.888542669239\n",
      "STAND DEV:  50.32359481059629 VARIANCE 2532.464194661074\n",
      "STAND DEV:  50.22967429745211 VARIANCE 2523.0201800281206\n",
      "THE CENTER NUMBER DOESNT AFFECT ON STD DEV OR VARIANCE\n"
     ]
    }
   ],
   "source": [
    "#MODIFYING CENTER OF NORMAL DISTRIBUTION\n",
    "incomes = np.random.normal(3, 50, 10000)\n",
    "print('STAND DEV: ',incomes.std(),'VARIANCE',incomes.var())\n",
    "\n",
    "incomes = np.random.normal(100000.05, 50.0, 10000)\n",
    "print('STAND DEV: ',incomes.std(),'VARIANCE',incomes.var())\n",
    "\n",
    "incomes = np.random.normal(-32323, 50.0, 10000)\n",
    "print('STAND DEV: ',incomes.std(),'VARIANCE',incomes.var())\n",
    "\n",
    "incomes = np.random.normal(-32, 50.0, 10000)\n",
    "print('STAND DEV: ',incomes.std(),'VARIANCE',incomes.var())\n",
    "\n",
    "print('THE CENTER NUMBER DOESNT AFFECT ON STD DEV OR VARIANCE')"
   ]
  },
  {
   "cell_type": "code",
   "execution_count": 38,
   "metadata": {},
   "outputs": [
    {
     "name": "stdout",
     "output_type": "stream",
     "text": [
      "STAND DEV:  50.808497453399475 VARIANCE 2581.503413472101\n",
      "STAND DEV:  49.88982689125252 VARIANCE 2488.994827239143\n",
      "STAND DEV:  493.8306238618821 VARIANCE 243868.68506381565\n",
      "STAND DEV:  56718.999253038324 VARIANCE 3217044876.266162\n",
      "OBVIOUSLY STAND DEV IS AFFECTED AND VARIANCE IS SIMILARLY AFFECTED \n",
      "(THE DIFFERENCE BETWEEN THE MODIFICATIONS IS BIGGER AT THE VARIANCE BECAUSE ITS THE SQUARED \n",
      "OF THE STAND DEV)\n"
     ]
    }
   ],
   "source": [
    "#MODIFYING STAND DEV OF NORMAL DISTRIBUTION\n",
    "incomes = np.random.normal(3, 50.2, 10000)\n",
    "print('STAND DEV: ',incomes.std(),'VARIANCE',incomes.var())\n",
    "\n",
    "incomes = np.random.normal(3, 50.1, 10000)\n",
    "print('STAND DEV: ',incomes.std(),'VARIANCE',incomes.var())\n",
    "\n",
    "incomes = np.random.normal(3, 500, 10000)\n",
    "print('STAND DEV: ',incomes.std(),'VARIANCE',incomes.var())\n",
    "\n",
    "incomes = np.random.normal(3,56450, 10000)\n",
    "print('STAND DEV: ',incomes.std(),'VARIANCE',incomes.var())\n",
    "\n",
    "print('OBVIOUSLY STAND DEV IS AFFECTED AND VARIANCE IS SIMILARLY AFFECTED \\n\\\n",
    "(THE DIFFERENCE BETWEEN THE MODIFICATIONS IS BIGGER AT THE VARIANCE BECAUSE ITS THE SQUARED \\n\\\n",
    "OF THE STAND DEV)')"
   ]
  },
  {
   "cell_type": "code",
   "execution_count": 40,
   "metadata": {},
   "outputs": [
    {
     "name": "stdout",
     "output_type": "stream",
     "text": [
      "STAND DEV:  49.61025962129089 VARIANCE 2461.1778596918857\n",
      "STAND DEV:  44.545850597053736 VARIANCE 1984.332805415033\n",
      "STAND DEV:  49.99958122200961 VARIANCE 2499.958122376336\n",
      "OBVIOUSLY STAND DEV IS AFFECTED AND VARIANCE IS SIMILARLY AFFECTED \n",
      "(AGAIN THE DIFFERENCE IS BIGGER AT THE VARIANCE) \n",
      "+ points => + similar is adjusted the stand dev mostral to the real input \n"
     ]
    }
   ],
   "source": [
    "#MODIFYING NUMBER OF POINTS OF NORMAL DISTRIBUTION\n",
    "incomes = np.random.normal(3, 50, 10000)\n",
    "print('STAND DEV: ',incomes.std(),'VARIANCE',incomes.var())\n",
    "\n",
    "incomes = np.random.normal(3, 50, 10)\n",
    "print('STAND DEV: ',incomes.std(),'VARIANCE',incomes.var())\n",
    "\n",
    "incomes = np.random.normal(3, 50, 100000000)\n",
    "print('STAND DEV: ',incomes.std(),'VARIANCE',incomes.var())\n",
    "\n",
    "print('OBVIOUSLY STAND DEV IS AFFECTED AND VARIANCE IS SIMILARLY AFFECTED \\n\\\n",
    "(AGAIN THE DIFFERENCE IS BIGGER AT THE VARIANCE) \\n\\\n",
    "+ points => + similar is adjusted the stand dev mostral to the real input ')"
   ]
  }
 ],
 "metadata": {
  "kernelspec": {
   "display_name": "Python 3",
   "language": "python",
   "name": "python3"
  },
  "language_info": {
   "codemirror_mode": {
    "name": "ipython",
    "version": 3
   },
   "file_extension": ".py",
   "mimetype": "text/x-python",
   "name": "python",
   "nbconvert_exporter": "python",
   "pygments_lexer": "ipython3",
   "version": "3.8.5"
  }
 },
 "nbformat": 4,
 "nbformat_minor": 1
}
